{
 "cells": [
  {
   "cell_type": "markdown",
   "id": "985e6f9b",
   "metadata": {},
   "source": [
    "# PRACTICA 4\n",
    "Andrea Salvador y Lucia Fernandez\n",
    "\n",
    "### Resuelve los siguientes ejercicios"
   ]
  },
  {
   "cell_type": "markdown",
   "id": "28748e51",
   "metadata": {},
   "source": [
    "##### 1.- Abre el fichero dna.txt, guarda una lista del contenido del archivo. Devuelve su longitud y su primer caracter"
   ]
  },
  {
   "cell_type": "code",
   "execution_count": 2,
   "id": "88679bbc",
   "metadata": {},
   "outputs": [
    {
     "data": {
      "text/plain": [
       "<_io.TextIOWrapper name='dna.txt' mode='r' encoding='cp1252'>"
      ]
     },
     "execution_count": 2,
     "metadata": {},
     "output_type": "execute_result"
    }
   ],
   "source": [
    "mi_archivo = open ('dna.txt')\n",
    "mi_archivo"
   ]
  },
  {
   "cell_type": "code",
   "execution_count": 6,
   "id": "b23b2a44-7be8-4751-b4f3-4a2c937a1888",
   "metadata": {},
   "outputs": [
    {
     "data": {
      "text/plain": [
       "'ATCGATCGATCGATCGACTGACTAGTCATAGCTATGCATGTAGCTACTCGATCGATCGATCGATCGATCGATCGATCGATCGATCATGCTATCATCGATCGATATCGATGCATCGACTACTAT'"
      ]
     },
     "execution_count": 6,
     "metadata": {},
     "output_type": "execute_result"
    }
   ],
   "source": [
    "mi_archivo.read()"
   ]
  },
  {
   "cell_type": "code",
   "execution_count": 28,
   "id": "c67e13b3-539e-45dd-bb0b-249bad0c3358",
   "metadata": {},
   "outputs": [],
   "source": [
    "mi_archivo.seek(0)\n",
    "lista_archivo = mi_archivo.readlines()"
   ]
  },
  {
   "cell_type": "code",
   "execution_count": 30,
   "id": "c91b0f8e-7bce-4b08-bec1-79b3c2f51d4d",
   "metadata": {},
   "outputs": [
    {
     "data": {
      "text/plain": [
       "['ATCGATCGATCGATCGACTGACTAGTCATAGCTATGCATGTAGCTACTCGATCGATCGATCGATCGATCGATCGATCGATCGATCATGCTATCATCGATCGATATCGATGCATCGACTACTAT']"
      ]
     },
     "execution_count": 30,
     "metadata": {},
     "output_type": "execute_result"
    }
   ],
   "source": [
    "lista_archivo"
   ]
  },
  {
   "cell_type": "code",
   "execution_count": 82,
   "id": "b801e721-0028-4bb1-9ba2-5bd0cb5d6218",
   "metadata": {},
   "outputs": [
    {
     "data": {
      "text/plain": [
       "123"
      ]
     },
     "execution_count": 82,
     "metadata": {},
     "output_type": "execute_result"
    }
   ],
   "source": [
    "longitud_lista = len(lista_archivo[0])\n",
    "longitud_lista"
   ]
  },
  {
   "cell_type": "code",
   "execution_count": 98,
   "id": "b5417b93-c93b-4457-9a07-eee513adc103",
   "metadata": {},
   "outputs": [
    {
     "data": {
      "text/plain": [
       "'A'"
      ]
     },
     "execution_count": 98,
     "metadata": {},
     "output_type": "execute_result"
    }
   ],
   "source": [
    "lista_archivo[0][0]"
   ]
  },
  {
   "cell_type": "markdown",
   "id": "9b87396a",
   "metadata": {},
   "source": [
    "##### 2.- Crea dos archivos. Uno almacena los accession que empiezen por 'a' y el otro el resto"
   ]
  },
  {
   "cell_type": "code",
   "execution_count": 100,
   "id": "73957856",
   "metadata": {},
   "outputs": [],
   "source": [
    "accs = ['ab56', 'bh84', 'hv76', 'ay93', 'ap97', 'bd72']"
   ]
  },
  {
   "cell_type": "code",
   "execution_count": 90,
   "id": "8f62bc8f",
   "metadata": {},
   "outputs": [],
   "source": [
    "archivo_a=open('archivo_a.txt','w+')\n",
    "archivo_x=open('archivo_x.txt','w+')\n",
    "for accession in accs:\n",
    "    if accession.startswith('a'):\n",
    "        archivo_a.write(accession + '\\n')\n",
    "    else:\n",
    "        archivo_x.write(accession + '\\n')"
   ]
  },
  {
   "cell_type": "markdown",
   "id": "9cbb4adf",
   "metadata": {},
   "source": [
    "##### 3.- Imprime solamente los accessions de la lista anterior que empiecen por 'a' y no acaben con '6'. Pista: usa endswith() y startswidth()"
   ]
  },
  {
   "cell_type": "code",
   "execution_count": 134,
   "id": "b32ca419",
   "metadata": {},
   "outputs": [
    {
     "name": "stdout",
     "output_type": "stream",
     "text": [
      "ay93\n",
      "ap97\n"
     ]
    }
   ],
   "source": [
    "for accessions in accs:\n",
    "    if accessions.startswith('a') and not  accessions.endswith('6'):\n",
    "        print (accessions)"
   ]
  },
  {
   "cell_type": "markdown",
   "id": "42c397b0",
   "metadata": {},
   "source": [
    "##### 4.- Escribe una función que cuente el porcentaje de A de una secuencia"
   ]
  },
  {
   "cell_type": "code",
   "execution_count": 126,
   "id": "da633510",
   "metadata": {},
   "outputs": [],
   "source": [
    "secuencia='ATCGATCGATCGATCGACTGACTAGTCATAGCTATGCATGTAGCTACTCGATCGATCGATCGATCGATCGATCGATCGATCGATCATGCTATCATCGATCGATATCGATGCATCGACTACTAT'"
   ]
  },
  {
   "cell_type": "code",
   "execution_count": 128,
   "id": "37ec415d-7fc2-4c27-b57e-3c2d7a1d13ec",
   "metadata": {},
   "outputs": [],
   "source": [
    "def porcentaje_A (secuencia):\n",
    "    cantidad_A= secuencia.count('A')\n",
    "    porcentaje = ( cantidad_A/ len(secuencia))*100\n",
    "    return porcentaje\n"
   ]
  },
  {
   "cell_type": "code",
   "execution_count": 138,
   "id": "2d42f188-a6aa-4e81-bd47-db14d3983242",
   "metadata": {},
   "outputs": [
    {
     "data": {
      "text/plain": [
       "26.82926829268293"
      ]
     },
     "execution_count": 138,
     "metadata": {},
     "output_type": "execute_result"
    }
   ],
   "source": [
    "porcentaje_A(secuencia)"
   ]
  },
  {
   "cell_type": "markdown",
   "id": "054b8f51",
   "metadata": {},
   "source": [
    "##### ¿Puedes hacer que devuelva dos decimales? ¿Y que lidie con mayúsculas y minúsculas?"
   ]
  },
  {
   "cell_type": "code",
   "execution_count": 142,
   "id": "dc1d5907",
   "metadata": {},
   "outputs": [
    {
     "data": {
      "text/plain": [
       "26.83"
      ]
     },
     "execution_count": 142,
     "metadata": {},
     "output_type": "execute_result"
    }
   ],
   "source": [
    "porcentaje_redondeado = round(porcentaje_A(secuencia),2)\n",
    "porcentaje_redondeado"
   ]
  },
  {
   "cell_type": "code",
   "execution_count": 196,
   "id": "c52e7f17-0a88-4330-a7ac-08bdf95adaba",
   "metadata": {},
   "outputs": [
    {
     "data": {
      "text/plain": [
       "'ATCGATCGATCGATCGACTGACTAGTCATAGCTATGCATGTAGCTACTCGATCGATCGATCGATCGATCGATCGATCGATCGATCATGCTATCATCGATCGATATCGATGCATCGACTACTAT'"
      ]
     },
     "execution_count": 196,
     "metadata": {},
     "output_type": "execute_result"
    }
   ],
   "source": [
    "def porcentaje_A(secuencia):\n",
    "    secuencia=secuencia.upper()\n",
    "def porcentaje_A(secuencia):\n",
    "    secuencia=secuencia.lower()\n",
    "secuencia"
   ]
  },
  {
   "cell_type": "markdown",
   "id": "36a03b5f",
   "metadata": {},
   "source": [
    "##### ¿Y que devuelva el número de decimales que yo quiero?"
   ]
  },
  {
   "cell_type": "code",
   "execution_count": 146,
   "id": "1ac51951",
   "metadata": {},
   "outputs": [
    {
     "data": {
      "text/plain": [
       "26.829"
      ]
     },
     "execution_count": 146,
     "metadata": {},
     "output_type": "execute_result"
    }
   ],
   "source": [
    "porcentaje_mio= round(porcentaje_A(secuencia),3)\n",
    "porcentaje_mio"
   ]
  },
  {
   "cell_type": "markdown",
   "id": "2c811d84",
   "metadata": {},
   "source": [
    "##### ¿Sabes poner un valor por defecto en un argumento?"
   ]
  },
  {
   "cell_type": "code",
   "execution_count": 152,
   "id": "60981086",
   "metadata": {},
   "outputs": [
    {
     "name": "stdout",
     "output_type": "stream",
     "text": [
      "Hola caracola,luci!\n"
     ]
    }
   ],
   "source": [
    "def saludar (nombre, saludo= 'Hola caracola'):\n",
    "    print (f'{saludo},{nombre}!')\n",
    "\n",
    "saludar('luci')"
   ]
  },
  {
   "cell_type": "markdown",
   "id": "ab2c106c",
   "metadata": {},
   "source": [
    "##### ¿Qué pasa si no ponemos un argumento? ¿Sabrías hacer una función encapsulada?"
   ]
  },
  {
   "cell_type": "code",
   "execution_count": 154,
   "id": "b155dc1e",
   "metadata": {},
   "outputs": [
    {
     "ename": "TypeError",
     "evalue": "saludar() missing 1 required positional argument: 'nombre'",
     "output_type": "error",
     "traceback": [
      "\u001b[1;31m---------------------------------------------------------------------------\u001b[0m",
      "\u001b[1;31mTypeError\u001b[0m                                 Traceback (most recent call last)",
      "Cell \u001b[1;32mIn[154], line 1\u001b[0m\n\u001b[1;32m----> 1\u001b[0m saludar()\n",
      "\u001b[1;31mTypeError\u001b[0m: saludar() missing 1 required positional argument: 'nombre'"
     ]
    }
   ],
   "source": [
    "saludar() # si no se introduce argumento nos da  error"
   ]
  },
  {
   "cell_type": "code",
   "execution_count": 182,
   "id": "c4f9dbb5-8664-4073-a971-e8e3d0c0b19a",
   "metadata": {},
   "outputs": [],
   "source": [
    "def conversacion( pregunta  = 'que tal'):\n",
    "    def saludar (nombre, saludo= 'Hola caracola'):\n",
    "        print (f'{saludo},{pregunta},{nombre}!')\n",
    "conversacion('luci')"
   ]
  },
  {
   "cell_type": "markdown",
   "id": "83af4b0f",
   "metadata": {},
   "source": [
    "##### Testea tu función original con assert"
   ]
  },
  {
   "cell_type": "code",
   "execution_count": null,
   "id": "2bf31b44",
   "metadata": {},
   "outputs": [],
   "source": []
  },
  {
   "cell_type": "markdown",
   "id": "991abaa2",
   "metadata": {},
   "source": [
    "#### 5.- De la lista de accessions que se proporciona obtén lo siguiente:\n",
    "1. Los que tengan el número 5\n",
    "2. Los que tengan la letra 'd' o la 'e'\n",
    "3. Los que tengan las letras 'd' y 'e' en ese orden\n",
    "4. Los que tengan las letras 'd' y 'e' en ese orden con una letra cualquiera en medio\n",
    "5. Los que tengan ambas letras 'd' y 'e' en cualquier orden\n",
    "6. Los que empiezan por 'x' o por 'y'\n",
    "7. Los que empiezan por 'x' o 'y' y terminan por 'e'\n",
    "8. Los que tienen tres o más dígitos seguidos\n",
    "9. Los que terminan con 'd' seguidos de 'a' o 'r' o 'p'"
   ]
  },
  {
   "cell_type": "code",
   "execution_count": 26,
   "id": "6388ac75",
   "metadata": {},
   "outputs": [],
   "source": [
    "import re"
   ]
  },
  {
   "cell_type": "code",
   "execution_count": 27,
   "id": "d00d3ce7",
   "metadata": {},
   "outputs": [],
   "source": [
    "accs = ['xkn59438', 'yhdck2', 'eihd39d9', 'chdsye847', 'hedle3455', 'xjhd53e', '45da', 'de37dp']"
   ]
  },
  {
   "cell_type": "code",
   "execution_count": 200,
   "id": "62c815b6-2151-4bc4-85cc-ce8657f371c9",
   "metadata": {},
   "outputs": [
    {
     "data": {
      "text/plain": [
       "['ab56']"
      ]
     },
     "execution_count": 200,
     "metadata": {},
     "output_type": "execute_result"
    }
   ],
   "source": [
    "con_5 = [acc for acc in accs if '5' in acc]\n",
    "con_5"
   ]
  },
  {
   "cell_type": "code",
   "execution_count": 202,
   "id": "ca93c36c-2e54-4445-93c4-a8f9040cee30",
   "metadata": {},
   "outputs": [
    {
     "data": {
      "text/plain": [
       "['bd72']"
      ]
     },
     "execution_count": 202,
     "metadata": {},
     "output_type": "execute_result"
    }
   ],
   "source": [
    "con_d_o_e = [acc for acc in accs if 'd' in acc or 'e' in acc]\n",
    "con_d_o_e"
   ]
  },
  {
   "cell_type": "code",
   "execution_count": 204,
   "id": "d69ef953-1bea-4e21-9962-08ce5924fcb7",
   "metadata": {},
   "outputs": [
    {
     "data": {
      "text/plain": [
       "[]"
      ]
     },
     "execution_count": 204,
     "metadata": {},
     "output_type": "execute_result"
    }
   ],
   "source": [
    "con_de = [acc for acc in accs if 'd' in acc and 'e' in acc and acc.index('d') < acc.index('e')]\n",
    "con_de"
   ]
  },
  {
   "cell_type": "code",
   "execution_count": 208,
   "id": "17ced02e-6684-4e2e-9c86-cdf910b1d486",
   "metadata": {},
   "outputs": [
    {
     "ename": "NameError",
     "evalue": "name 're' is not defined",
     "output_type": "error",
     "traceback": [
      "\u001b[1;31m---------------------------------------------------------------------------\u001b[0m",
      "\u001b[1;31mNameError\u001b[0m                                 Traceback (most recent call last)",
      "Cell \u001b[1;32mIn[208], line 1\u001b[0m\n\u001b[1;32m----> 1\u001b[0m con_d_cualquiera_e \u001b[38;5;241m=\u001b[39m [acc \u001b[38;5;28;01mfor\u001b[39;00m acc \u001b[38;5;129;01min\u001b[39;00m accs \u001b[38;5;28;01mif\u001b[39;00m re\u001b[38;5;241m.\u001b[39msearch(\u001b[38;5;124mr\u001b[39m\u001b[38;5;124m'\u001b[39m\u001b[38;5;124md.e\u001b[39m\u001b[38;5;124m'\u001b[39m, acc)]\n\u001b[0;32m      2\u001b[0m con_d_cualquiera_e\n",
      "\u001b[1;31mNameError\u001b[0m: name 're' is not defined"
     ]
    }
   ],
   "source": [
    "con_d_cualquiera_e = [acc for acc in accs if re.search(r'd.e', acc)]\n",
    "con_d_cualquiera_e"
   ]
  },
  {
   "cell_type": "code",
   "execution_count": 212,
   "id": "ec02a945-9ca0-4616-98c5-65c793fe425e",
   "metadata": {},
   "outputs": [
    {
     "data": {
      "text/plain": [
       "[]"
      ]
     },
     "execution_count": 212,
     "metadata": {},
     "output_type": "execute_result"
    }
   ],
   "source": [
    "con_d_y_e = [acc for acc in accs if 'd' in acc and 'e' in acc]\n",
    "con_d_y_e"
   ]
  }
 ],
 "metadata": {
  "kernelspec": {
   "display_name": "Python 3 (ipykernel)",
   "language": "python",
   "name": "python3"
  },
  "language_info": {
   "codemirror_mode": {
    "name": "ipython",
    "version": 3
   },
   "file_extension": ".py",
   "mimetype": "text/x-python",
   "name": "python",
   "nbconvert_exporter": "python",
   "pygments_lexer": "ipython3",
   "version": "3.12.4"
  }
 },
 "nbformat": 4,
 "nbformat_minor": 5
}
