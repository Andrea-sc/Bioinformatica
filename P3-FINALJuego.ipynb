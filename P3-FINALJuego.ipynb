{
 "cells": [
  {
   "cell_type": "markdown",
   "id": "e87fdfc4",
   "metadata": {},
   "source": [
    "# PRACTICA JUEGO CONDICIONALES BUCLES\n",
    "\n",
    "\n",
    "## JUEGO DE ADIVINANZAS\n",
    "\n",
    "#### Escribe un programa que coja un número entero del 1 al 100, y los jugadores tienen que tratar de adivinar el número.\n",
    "\n",
    "#### Las reglas son las siguientes:\n",
    "\n",
    "1. Si un jugador escoje un número menor que 1 o mayor que 100, el programa dice \"FUERA DE LÍMITES\"\n",
    "2. En el primer turno del jugador, si está en un rango de 10 del número dice \"¡CALIENTE!\". Si está fuera de ese rango dice \"¡FRIO!\"\n",
    "3. En todas las rondas siguientes, si el jugador se acerca más que la vez anterior, dice \"¡MAS CALIENTE!\". Si está más lejos que la anterior vez dice \"¡MAS FRIO!\"\n",
    "4. Cuando el jugador acierte el número, les dirá que han acertado y cuántos intentos les ha llevado\n",
    "\n",
    "\n",
    "\n"
   ]
  },
  {
   "cell_type": "markdown",
   "id": "1ea418c3",
   "metadata": {},
   "source": [
    "##### PISTAS\n",
    "1. Trata obtener un número aleatorio entre el 1 y el 100\n",
    "2. Haz una introducción de tu juego y explica las reglas\n",
    "3. Crea una lista que almacene los intentos. \n",
    "4. Haz un bucle que evalúe un número. Prueba que funcione primero. While podría ir bien\n",
    "5. Modifica ese bucle para que compare nuestro número con el intento. Si se acierta usa break, si no puedes usar continue y tienes que seguir preguntando al jugador por nuevos intentos"
   ]
  },
  {
   "cell_type": "markdown",
   "id": "f1d47c3c-7985-4469-8b06-6cc3ae074d82",
   "metadata": {},
   "source": [
    "Andrea Salvador Campos y Lucia Fernandez Tenorio :)"
   ]
  },
  {
   "cell_type": "code",
   "execution_count": 25,
   "id": "f59aa014-8495-410e-b9ac-b6db1caf2ea8",
   "metadata": {},
   "outputs": [
    {
     "name": "stdout",
     "output_type": "stream",
     "text": [
      "Bienvenido al Juego de adivinazas! :)\n",
      "Elige un numero del 1 al 100\n",
      "si adivinas el numero que selecciona el programa ¡HAS GANADO!\n",
      "si no, INTENTALO OTRA VEZ!\n"
     ]
    }
   ],
   "source": [
    "juego_adivinanza()"
   ]
  },
  {
   "cell_type": "code",
   "execution_count": 17,
   "id": "ac5ed359-3557-41b2-ac78-167e9185b208",
   "metadata": {},
   "outputs": [],
   "source": [
    "import random\n",
    "\n",
    "def Juego_adivinacion():\n",
    "    print('Bienvenido al Juego de adivinanzas!')\n",
    "    print('Elige un numero del 1 al 100')\n",
    "    print('si adivinas el numero que selecciona el programa ¡HAS GANADO!')\n",
    "    print('si no, INTENTALO OTRA VEZ')\n",
    "\n",
    "    numero_aleatorio = random.randint(1,100)\n",
    "    intento= 0\n",
    "    lista_intentos=[]\n",
    "    while True:\n",
    "        respuesta= int(input('Escoje un numero del 1 al 100'))\n",
    "        if respuesta < 1 or respuesta > 100:\n",
    "            print('FUERA DE LIMITE')\n",
    "            continue\n",
    "        elif respuesta == numero_aleatorio:\n",
    "            print ('¡Lo has conseguido!')\n",
    "            break\n",
    "        else:\n",
    "            if intento == 1:\n",
    "                if respuesta - numero_aleatorio <= 10:\n",
    "                    print('CALIENTE')\n",
    "                    lista_intentos.append(intento)\n",
    "                    continue\n",
    "                else:\n",
    "                    print('FRIO')\n",
    "                    lista_intentos.append(intento)\n",
    "                    continue\n",
    "            else:\n",
    "                if( respuesta-numero_aleatorio)<( lista_intentos[-2] - numero_aleatorio):\n",
    "                    print('MAS CALIENTE')\n",
    "                    lista_intentos.append(intento)\n",
    "                    continue\n",
    "                else:\n",
    "                    print('MAS FRIO')\n",
    "                    lista_intentos.append(intento)\n",
    "                    continue"
   ]
  },
  {
   "cell_type": "code",
   "execution_count": 19,
   "id": "e633e43a-4df3-41f4-a81e-9f38391f3a91",
   "metadata": {},
   "outputs": [
    {
     "name": "stdout",
     "output_type": "stream",
     "text": [
      "Bienvenido al Juego de adivinanzas!\n",
      "Elige un numero del 1 al 100\n",
      "si adivinas el numero que selecciona el programa ¡HAS GANADO!\n",
      "si no, INTENTALO OTRA VEZ\n"
     ]
    },
    {
     "name": "stdin",
     "output_type": "stream",
     "text": [
      "Escoje un numero del 1 al 100 7\n"
     ]
    },
    {
     "ename": "IndexError",
     "evalue": "list index out of range",
     "output_type": "error",
     "traceback": [
      "\u001b[1;31m---------------------------------------------------------------------------\u001b[0m",
      "\u001b[1;31mIndexError\u001b[0m                                Traceback (most recent call last)",
      "Cell \u001b[1;32mIn[19], line 1\u001b[0m\n\u001b[1;32m----> 1\u001b[0m Juego_adivinacion()\n",
      "Cell \u001b[1;32mIn[17], line 31\u001b[0m, in \u001b[0;36mJuego_adivinacion\u001b[1;34m()\u001b[0m\n\u001b[0;32m     29\u001b[0m         \u001b[38;5;28;01mcontinue\u001b[39;00m\n\u001b[0;32m     30\u001b[0m \u001b[38;5;28;01melse\u001b[39;00m:\n\u001b[1;32m---> 31\u001b[0m     \u001b[38;5;28;01mif\u001b[39;00m( respuesta\u001b[38;5;241m-\u001b[39mnumero_aleatorio)\u001b[38;5;241m<\u001b[39m( lista_intentos[\u001b[38;5;241m-\u001b[39m\u001b[38;5;241m2\u001b[39m] \u001b[38;5;241m-\u001b[39m numero_aleatorio):\n\u001b[0;32m     32\u001b[0m         \u001b[38;5;28mprint\u001b[39m(\u001b[38;5;124m'\u001b[39m\u001b[38;5;124mMAS CALIENTE\u001b[39m\u001b[38;5;124m'\u001b[39m)\n\u001b[0;32m     33\u001b[0m         lista_intentos\u001b[38;5;241m.\u001b[39mappend(intento)\n",
      "\u001b[1;31mIndexError\u001b[0m: list index out of range"
     ]
    }
   ],
   "source": [
    "Juego_adivinacion()"
   ]
  },
  {
   "cell_type": "code",
   "execution_count": 35,
   "id": "9d8095d9",
   "metadata": {},
   "outputs": [
    {
     "data": {
      "text/plain": [
       "[28,\n",
       " 73,\n",
       " 96,\n",
       " 43,\n",
       " 59,\n",
       " 51,\n",
       " 22,\n",
       " 24,\n",
       " 27,\n",
       " 98,\n",
       " 56,\n",
       " 5,\n",
       " 38,\n",
       " 88,\n",
       " 70,\n",
       " 20,\n",
       " 63,\n",
       " 32,\n",
       " 30,\n",
       " 67,\n",
       " 17,\n",
       " 80,\n",
       " 14,\n",
       " 61,\n",
       " 83,\n",
       " 95,\n",
       " 44,\n",
       " 76,\n",
       " 10,\n",
       " 46,\n",
       " 16,\n",
       " 4,\n",
       " 78,\n",
       " 40,\n",
       " 26,\n",
       " 23,\n",
       " 64,\n",
       " 99,\n",
       " 3,\n",
       " 92,\n",
       " 53,\n",
       " 34,\n",
       " 62,\n",
       " 45,\n",
       " 6,\n",
       " 93,\n",
       " 19,\n",
       " 74,\n",
       " 11,\n",
       " 75,\n",
       " 97,\n",
       " 77,\n",
       " 52,\n",
       " 1,\n",
       " 49,\n",
       " 25,\n",
       " 21,\n",
       " 48,\n",
       " 68,\n",
       " 42,\n",
       " 31,\n",
       " 2,\n",
       " 13,\n",
       " 54,\n",
       " 69,\n",
       " 84,\n",
       " 100,\n",
       " 9,\n",
       " 8,\n",
       " 37,\n",
       " 87,\n",
       " 86,\n",
       " 82,\n",
       " 33,\n",
       " 72,\n",
       " 91,\n",
       " 47,\n",
       " 66,\n",
       " 65,\n",
       " 81,\n",
       " 90,\n",
       " 60,\n",
       " 41,\n",
       " 71,\n",
       " 89,\n",
       " 85,\n",
       " 39,\n",
       " 29,\n",
       " 18,\n",
       " 36,\n",
       " 79,\n",
       " 7,\n",
       " 15,\n",
       " 55,\n",
       " 35,\n",
       " 57,\n",
       " 12,\n",
       " 94,\n",
       " 50,\n",
       " 58]"
      ]
     },
     "execution_count": 35,
     "metadata": {},
     "output_type": "execute_result"
    }
   ],
   "source": [
    "from random import shuffle \n",
    "mi_lista= [i for i in range (1,101)]\n",
    "def desordenar_lista(lista):\n",
    "    shuffle(mi_lista)\n",
    "desordenar_lista(mi_lista)\n",
    "\n"
   ]
  },
  {
   "cell_type": "code",
   "execution_count": null,
   "id": "32ef2c5a-d9bc-4dba-b542-388535d0fcd3",
   "metadata": {},
   "outputs": [],
   "source": []
  }
 ],
 "metadata": {
  "kernelspec": {
   "display_name": "Python 3 (ipykernel)",
   "language": "python",
   "name": "python3"
  },
  "language_info": {
   "codemirror_mode": {
    "name": "ipython",
    "version": 3
   },
   "file_extension": ".py",
   "mimetype": "text/x-python",
   "name": "python",
   "nbconvert_exporter": "python",
   "pygments_lexer": "ipython3",
   "version": "3.12.4"
  }
 },
 "nbformat": 4,
 "nbformat_minor": 5
}
